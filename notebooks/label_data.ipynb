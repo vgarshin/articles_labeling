{
 "cells": [
  {
   "cell_type": "code",
   "execution_count": null,
   "id": "7ebd509d-1915-45b8-bfa0-88ceac39f53c",
   "metadata": {},
   "outputs": [],
   "source": [
    "import os\n",
    "import re\n",
    "import json"
   ]
  },
  {
   "cell_type": "code",
   "execution_count": null,
   "id": "61d3c053-a5dc-43ad-acab-21bffe221625",
   "metadata": {},
   "outputs": [],
   "source": [
    "file_name = 'project-6-at-2023-12-29-09-32-db288205.json'\n",
    "with open(file_name) as file:\n",
    "    data = json.load(file)"
   ]
  },
  {
   "cell_type": "code",
   "execution_count": null,
   "id": "adebde7b-cb40-4905-8a18-287722ba2e06",
   "metadata": {},
   "outputs": [],
   "source": [
    "len(data)"
   ]
  },
  {
   "cell_type": "code",
   "execution_count": null,
   "id": "d47755f7-9865-42a6-b41d-d0793b912f2c",
   "metadata": {},
   "outputs": [],
   "source": [
    "data[0].keys()"
   ]
  },
  {
   "cell_type": "code",
   "execution_count": null,
   "id": "09a11071-dd53-4636-8f2e-cca2fb6993e9",
   "metadata": {},
   "outputs": [],
   "source": [
    "data[0]['annotations']"
   ]
  },
  {
   "cell_type": "code",
   "execution_count": null,
   "id": "f79bd4f0-9737-4109-8edc-ca20099fbbfb",
   "metadata": {},
   "outputs": [],
   "source": [
    "data[0]['data'].keys()"
   ]
  },
  {
   "cell_type": "code",
   "execution_count": null,
   "id": "b87a3927-a942-456e-88e9-4c12e10e58fc",
   "metadata": {},
   "outputs": [],
   "source": [
    "data[0]['data']['title']"
   ]
  },
  {
   "cell_type": "code",
   "execution_count": null,
   "id": "baab2893-4a05-40df-9dff-085c94edb0ee",
   "metadata": {},
   "outputs": [],
   "source": [
    "data[50]['data']['title']"
   ]
  },
  {
   "cell_type": "code",
   "execution_count": null,
   "id": "bb87e957-85df-441f-a745-c563bee9f9fa",
   "metadata": {},
   "outputs": [],
   "source": []
  }
 ],
 "metadata": {
  "kernelspec": {
   "display_name": "Python 3 (ipykernel)",
   "language": "python",
   "name": "python3"
  },
  "language_info": {
   "codemirror_mode": {
    "name": "ipython",
    "version": 3
   },
   "file_extension": ".py",
   "mimetype": "text/x-python",
   "name": "python",
   "nbconvert_exporter": "python",
   "pygments_lexer": "ipython3",
   "version": "3.10.8"
  },
  "widgets": {
   "application/vnd.jupyter.widget-state+json": {
    "state": {},
    "version_major": 2,
    "version_minor": 0
   }
  }
 },
 "nbformat": 4,
 "nbformat_minor": 5
}
