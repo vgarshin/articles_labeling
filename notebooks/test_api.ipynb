{
 "cells": [
  {
   "cell_type": "code",
   "execution_count": null,
   "id": "f606e4c3-b525-426c-b716-b563b1adf17a",
   "metadata": {},
   "outputs": [],
   "source": [
    "import os\n",
    "import json\n",
    "import requests"
   ]
  },
  {
   "cell_type": "code",
   "execution_count": null,
   "id": "b74ab5b8-278f-4f46-b231-cd42e85f2e3c",
   "metadata": {},
   "outputs": [],
   "source": [
    "HEADER = {'Content-type': 'application/json'}\n",
    "IP = '158.160.86.75'\n",
    "PORT = 40000\n",
    "URL_SERVER_1 = 'http://{}:{}/model'.format(IP, PORT)"
   ]
  },
  {
   "cell_type": "code",
   "execution_count": null,
   "id": "018cd509-a79a-444e-963d-c62f51705831",
   "metadata": {},
   "outputs": [],
   "source": [
    "r = requests.get(\n",
    "    URL_SERVER_1,\n",
    "    headers=HEADER,\n",
    "    verify=True\n",
    ")\n",
    "response = r.json()['data']\n",
    "response"
   ]
  },
  {
   "cell_type": "code",
   "execution_count": null,
   "id": "5a75024f-50b6-43c8-a3e1-066518a15155",
   "metadata": {},
   "outputs": [],
   "source": [
    "URL_SERVER_2 = 'http://{}:{}/label'.format(IP, PORT)"
   ]
  },
  {
   "cell_type": "code",
   "execution_count": null,
   "id": "7ad0bff8-8146-41cf-822b-a13f3ee2cf70",
   "metadata": {},
   "outputs": [],
   "source": [
    "%%time\n",
    "text = \"\"\"Результаты исследования позволили выявить \n",
    "городские секторы, подверженные большему и меньшему риску из-за последствий изменения климата. \n",
    "Определение рисков от изменения климата в жизненно важных секторах Стамбула является \n",
    "необходимым при принятии решений для разработки дальнейших стратегий по смягчению возможных \n",
    "последствий и адаптации к новым условиям.\"\"\"\n",
    "data = {'text': text} \n",
    "r = requests.post(\n",
    "    URL_SERVER_2,\n",
    "    data=json.dumps(data),\n",
    "    headers=HEADER,\n",
    "    verify=True\n",
    ")\n",
    "response = r.json()['data']\n",
    "response"
   ]
  },
  {
   "cell_type": "code",
   "execution_count": null,
   "id": "e0ed9ff9-2655-4b2b-894e-dc5480011062",
   "metadata": {},
   "outputs": [],
   "source": [
    "import pandas as pd\n",
    "\n",
    "preds = [(response['legend'][k], round(v * 100)) for k, v in response['predictions'].items()]\n",
    "df = pd.DataFrame(\n",
    "    preds,\n",
    "    columns=['ЦУР', 'вероятность']\n",
    ")\n",
    "df = df.set_index('ЦУР')\n",
    "df"
   ]
  },
  {
   "cell_type": "code",
   "execution_count": null,
   "id": "dc0ab4be-df52-487d-9629-78375a07a390",
   "metadata": {},
   "outputs": [],
   "source": [
    "for idx, row in df[df['вероятность'] > 50].iterrows():\n",
    "    print(idx, row[\"вероятность\"])    "
   ]
  },
  {
   "cell_type": "code",
   "execution_count": null,
   "id": "cf096316-e5de-41e0-9d21-4e09cfa42eeb",
   "metadata": {},
   "outputs": [],
   "source": [
    "import os\n",
    "\n",
    "PORT = 20000\n",
    "\n",
    "print('Streamlit available at:',\n",
    "      'https://jhas01.gsom.spbu.ru{}proxy/{}/'.format(\n",
    "          os.environ['JUPYTERHUB_SERVICE_PREFIX'], PORT))\n",
    "\n",
    "#!streamlit run app/app.py --server.port {PORT} --browser.gatherUsageStats False"
   ]
  },
  {
   "cell_type": "code",
   "execution_count": null,
   "id": "db427b39-0fea-4d40-a11f-4916be4df143",
   "metadata": {},
   "outputs": [],
   "source": []
  }
 ],
 "metadata": {
  "kernelspec": {
   "display_name": "Python 3 (ipykernel)",
   "language": "python",
   "name": "python3"
  },
  "language_info": {
   "codemirror_mode": {
    "name": "ipython",
    "version": 3
   },
   "file_extension": ".py",
   "mimetype": "text/x-python",
   "name": "python",
   "nbconvert_exporter": "python",
   "pygments_lexer": "ipython3",
   "version": "3.10.8"
  },
  "widgets": {
   "application/vnd.jupyter.widget-state+json": {
    "state": {},
    "version_major": 2,
    "version_minor": 0
   }
  }
 },
 "nbformat": 4,
 "nbformat_minor": 5
}
